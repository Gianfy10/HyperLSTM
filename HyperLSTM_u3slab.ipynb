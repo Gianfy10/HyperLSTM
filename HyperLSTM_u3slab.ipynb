{
  "nbformat": 4,
  "nbformat_minor": 0,
  "metadata": {
    "colab": {
      "provenance": []
    },
    "kernelspec": {
      "name": "python3",
      "display_name": "Python 3"
    },
    "language_info": {
      "name": "python"
    }
  },
  "cells": [
    {
      "cell_type": "markdown",
      "source": [
        "# HyperLSTM"
      ],
      "metadata": {
        "id": "aD23Ld6Fe3Jt"
      }
    },
    {
      "cell_type": "markdown",
      "source": [
        "# u3s_lab"
      ],
      "metadata": {
        "id": "grR5MXLMe_Gt"
      }
    },
    {
      "cell_type": "markdown",
      "source": [
        "# 1. Executive summary"
      ],
      "metadata": {
        "id": "E953q1rxfDNs"
      }
    },
    {
      "cell_type": "markdown",
      "source": [
        "The network concept proposes a new and revolutionary approach to the study and monitoring of water quality parameters.\n",
        "The combination of convolutional and recurrent layers enables the model to make short-term predictions about the evolution of the parameters."
      ],
      "metadata": {
        "id": "P-HdmUPGfIAU"
      }
    },
    {
      "cell_type": "markdown",
      "source": [
        "# 2. Imports and code dependencies"
      ],
      "metadata": {
        "id": "evHbFHPDfhp3"
      }
    },
    {
      "cell_type": "code",
      "source": [
        "!pip install rasterio --quiet\n",
        "!pip install natsort --quiet\n",
        "!pip install tensorflow_graphics --quiet\n",
        "!pip install tensorflow_addons --quiet\n",
        "!pip install visualkeras --quiet"
      ],
      "metadata": {
        "id": "xjez7A2DfnBZ"
      },
      "execution_count": null,
      "outputs": []
    },
    {
      "cell_type": "code",
      "source": [
        "import numpy as np\n",
        "import glob\n",
        "import os\n",
        "import matplotlib.pyplot as plt\n",
        "import matplotlib.image as mpimg\n",
        "%matplotlib inline\n",
        "import rasterio\n",
        "from rasterio.plot import show\n",
        "from PIL import Image\n",
        "from natsort import natsorted\n",
        "import random as rn\n",
        "import tensorflow as tf\n",
        "import tensorflow_graphics as tfg\n",
        "import tensorflow_graphics.geometry.transformation as tfg_transformation\n",
        "from tensorflow import keras\n",
        "from keras import layers\n",
        "from keras import optimizers\n",
        "import tensorflow_addons as tfa\n",
        "import tensorflow_datasets as tfds\n",
        "import visualkeras\n",
        "\n",
        "SEED = 7231\n",
        "os.environ['PYTHONHASHSEED'] = str(SEED)\n",
        "rn.seed(29)\n",
        "np.random.seed(13)\n",
        "tf.random.set_seed(21)\n",
        "tfds.disable_progress_bar()"
      ],
      "metadata": {
        "id": "5hCJrlj7f4Qe"
      },
      "execution_count": null,
      "outputs": []
    },
    {
      "cell_type": "markdown",
      "source": [
        "# 3. Input/Output data"
      ],
      "metadata": {
        "id": "PGPCL41VggEs"
      }
    },
    {
      "cell_type": "markdown",
      "source": [
        "The simulation process used is the one provided by the challenge and output for every PRISMA image 16 patches with size of 256x256x50 saved as .tiff files with an UTM8 georeferenciation.\n",
        "\n",
        "After some processing done through the function obtain_masks(), used to apply the NDCI hyperspectral index, the patches are converted to maps of dimension 256x256x1 with values ranging from -1 to 1.\n",
        "All the images use the float32 bit depth.\n",
        "\n",
        "The index is defined as:\n",
        "\n",
        "![index.PNG](data:image/png;base64,iVBORw0KGgoAAAANSUhEUgAAAJoAAAAvCAYAAAAb+NPRAAAAAXNSR0IArs4c6QAAAARnQU1BAACxjwv8YQUAAAAJcEhZcwAADsMAAA7DAcdvqGQAAA7DSURBVHhe7Zv5VxTXuobvf3LvWueHs65GzbnnqHHKdY6zRlFQ4oBi0yIiMoiMgoCgiBpFEEQRohE1MoiCs8QJE1TQE8eIiQxLQS6D0NB9ums9d1d1Aw12NyraJ0M9a9WiandNu/Zb3/72rpf/QEXFCahCU3EKqtBUnIIqNBWnoApNxSmoQlNxCqrQVJyCKjQVp6AKTcUpqEJTcQp/GKFJVVlEB6VS/EBPW/keVk5zQRscQdhqDzSR+VQaLTvaRaL5Vj6F91p4XRTKrEmTmdK1TEWb+QQjep6djMHbwwtfL0/WJF3ipSSOrLvO3oBV+Pr7471cy9az1ZjEGY1VJRTeqBNnflfaqEhewcx5GkLDQ/Bd5kl03lNx/T6Qmrmdd5J/tsgbbTw4Go3vKj+CfJbgujie83XyndgpbzxJ6LTuOs8OPyv2NFJVcpJS5Tj59OXk71xHfK5ygXfiDyS0bDIKdOb1F5m4D9FS0Co2Oq4RMfozNlzSK7/ZpekSaek3kQ9pu3GcY+X1vG4Romup52KYG9HX9Jgq9+E+0osTsrqMD9g1cwR+p+q5HTuZWYn3MIhjjQ92MHvsRm7KG0JuvxYc5EzNu0pN4kWmG3/3ylfuR38tjLHD11PSVxUuppJxUz4CXl8OZcqCFB53iA2pgVsFRdwX+rBXbrizBY/gQp5VVVEllur6NvMLYvqVwoPF1FqqINUeIkMVmllohtKNTJiyhbtyCNBdJmTUZBLuKC1vBxOVGbHs/1mOQz2RGvJZ67qFCoNo/KxFfLr4MA3KLwZ+jB7H6PXnuRY1jrHriqkXjWG4m8jsL3fzuDP8NJ1k6/ZSEQvfBQM3I8cxfUuFEsV0l4L5fFI85Q6r8JQDsRk8Vaqg4+zaYbimPVciazf2ysXLle+LZ0Y1RunNl6LpZAI7S801UIVmJbTGI8sYMj2CEwU5pAavxHvHNV45CipSNQeDt3DrjYY08SxtEYt2PxFrBso3T2To2jMW0Zh4/PVMBi8/TnPNGaJnDGW0yxqCgxMpemolK6mWb0K32ji3IxrJWfaJ6L6OU5iTQqinlq+v1TvsgqXqTEK3lClRVRZdypwBzI9IZ2vQShZMm4km8RIv/mWnXDLx/NBa3D280S6dx5QJC4g+XdUlRqk2m/CttyzrqtAsQjNwJ24y4/2y2esxjPl7fn7j7X0D/Q3i1h/Ckop0o/+RuGlfcbBK/sHArZjxjAg4bxGaUQhtBoM8jtFce5nkiDiSkwKYPXQki5PLeK3sI6Pn3IZATjTL6zrKMiMJDw21vUQeMkctwx3iJ/0vAVkpeA6dS+qTPmuA/noMId9Y8kHjI3ZNH4Q2z/zimV7msnro50RdvWe7/EbPeNtyPogxw4O7u+qOs4QFHldWVaF1Ca2FPM0QlmTX03pxPWMmbuZ2z+f4JuJBhvgfE0f2pOmULxM0xy3RUHSvyXP4VJMrkmQZs/BGBxZwTPMZnkdeKY3cfncbswYt4dsu1eq5unE94mcFk0FPe3u77aXDYH4pWnLRDv6KQ3WtXAoaxZS42312vfqzwQQetdRAesVh90/wONJk3jY9J33eQDwOP7NdfkR5C7qQavazaIC4vpwLyOiviIHWt8qqKrROoRnvs33aKMLk19Fwm/gJw/EtbDS/6aKR9SIHMehF5mNopbHZ0nyGH0gIOkB1pzZkRCNkuo3Bv6j7oepLo5g4OcEcdUy/iEYazpq8e+Lv3/DOs+zXeBTPwQs52Jk9C4mcCQujqN2y+RYYf0pi1qgQvpercGszXwzz4VSj+XwGvR5JMmCuQiMtXVWIZ8OBakv3auTh9llMjLhhFqiuhLDR44kr09kpF+erq+Kl5R5fnw9kzITY7u6+o5iIsNPKqio0RWitvLq2iZl/HYb3iVrx0EWOle7K38YFcaaqlvPr5+ARu4fo2M1s27SfrIQkTssjSJopCI/tMaoz3Elg6uehXLUWiBBfQdA85muCCdG44Bp0gmdGE9WF4SyYvhD/8DDWuc9Hu7uUpk6diW4sNXyvJUl/C6R6rm+axsChWnJlsZoqyVgwmIlBxVTXniNk9lLik6PYHBdN7P6DbN12SplioTmfjbElXZFPqrtIvNuXeK4PI3CxCyuSriiDFdvlLZwNHCVyzCDiNq7Dw92X/WVNFtHKVUhh496nyvpHFZr++QVSN/jg6xeA34oFzPU5ROXbPjgnYT0YsI2B2wlakkQ4kqpz8F8aw/nq7gy9qSiRXdffLuwYWhtoaO0+1oyB143NtPd6Lqafs9iWXdl3nvg2iAi91StRGQHX5PjhEXOOmq7baOJM4k5u9KiCCV1TE22dI+AubJVL6Jtf0fjGziaeZm3lkKXBP5rQTL/koJ22nIyKZrPCpZeUnC4VMeC3Rd9Ca+GEjw/fWW687WEWqzUpPO5UgKmGiznnqP6QL5CITte+zeehVaTsF83H8V0tRrnKRhuPslahTXncJWJTzQWOnTNPFn8opPqrHMl70B0pP47QminyHcPizA9782+DsbWel01WUcPQTJ1Iju3dh/TqAvsT05UvAzYxVpDklSDyDgMVqaFsyUolJulMj2kP6VUFPzx894doD2NVGbeqeke+98dYsY1V8bcwGMpJC0kgOzWaHcXW0x4SDRU3efTBqmCkqqyMzirIXwYKUraQfd3RC20bx0LTFbPuH/NJf+5Mmeko3+uNx+oQNmjc8IjM50Z+FMtcVxLo70XE8SrLfv1AJNM63YcTwL8DyaDj91QFh0KTqvbhNkhDfp8Cbub7xADS73bXvKUkkcC9FZatd6DjAmFe6fyqaNtI5T53RrqKLs7OQ/3Lf/6Xuvwbl7fFsdDqDuI+wM1qqN4bI63NrSINbqcowJtDdXr0Hebo1346AO+sOmXdIXod7UaD6A4s24Y7bNPEonyya/+VwvUujJ26iiOVokuUdLS22bsXld8yjrtO412SpgzCNfWxEFNPTNVFbN+UzOFdUey5epc9Hhq+ztnFqlkBnBVie5LsRdQVR1mwRG3RFiKSvmGvrzuxXbPTIs8oTSVYswKPxatIKHxK48PviPNegedyb7YW11r2U/k90cdgQLbO7MN78mi+mLsUb79IdueW0yBynLLNPiQ/tAyFO86ywWs/tfr77PSK4aZBz9kgLzKrJV7fK+Rgxn4OWC2Z2ZfkzJbt3tsoF7nGaX8t2cpk0PsgUZ0VxYbUIh529Nde00Jx6HQre5BYpmo4+EScQV9JYYwWTy8fVq1YzY6LL8WVJeqvpxCk9SFwnZaVYrBxThm29rTXvC/9tTsptN3neJQPPmsD8F08n2Wbzymf2truH2OTjzf+AT4sc1lCwjn581UjhcFW9Z8ewdk2URtru5PUQkXeTgJic9/4kuKIPoTWiYReNIKua0zQxglvb06YHSmYKvfiHV6Cvu0kAasO0/CvStI0oVySrSj2aP2ONWKo3mp8TLImQpkFfz9koe2jUMkj+2uvaaP02FEq6mR7kFjqLxDhtpHrIkI/S3djjNd3yuSo8cFO5nzmy+n628RPmk7SPTney7PxM5kQWWqO/r3sNTaRWnntIBXor91JntIpCZ3Ewj2PlOkJqaGMwqL7om4lhE90JfWRUkpD2UmKfxKyEWlL4pINnKo0W4Wqquox314vu5NUy7fpH0VovTHyKM0Lz7BdHMi7Q825EHwyqjH8ksqyhcn89H/XiZ7nQ+5zOxm8jOEH4t2WsiklgZVz1lFY874jW2uh9ddeY41ogLw1LNpSjkF6QfbCQSw7bDYIyfceM3YEIeeusmnsGAKL5CkGA/cSZzJ/16OuCGptr7GFVP0NGfmWt9UG/bY76c7gP/TNWQNdsR8jXNJ4YzKhrQA/j/3UGOVY3Qtru5PzhGbG0K7vNa9lwmQpMBl718IGRjF4ELuZOg96L6yF1k97jTWmSvYtdGWP7JwQb3rChL/jX2wRjekxu2cMZOWxZmqLNzL7HyNwXRNEaOJpKq2iuLW9xhZ9Ca2/difT0z3M++95RKUlEOzpwswZniRdrOHn5DkMmhvJvoQgvOZNY/aKbVx+IWF6foh1bsvx0Sxl/qSJuEWepqqzaaztTs4W2m8DK6H1115jhf7HGGa5Z5o/tBvKiBs/jKDzFqGJ7n739AF4HhVCu7SLqNjd7PCfwYgR7qSUWT1+K3uNLRwLrf92J+Ojncz+pHN6ysTL3FWMGBPOsW0zGKLJw1z8kjztMMZF9DJnNp8neORnhHR11VZ2pz+90BzYa+y5HnrYa7po4rTvOLTHLNFQMRIOQptrNgiZhTeC4PyjaIcvJ0cJM+2i65zOp4utfG1W9ppODI/PkJGSQuqeFFK2atH47lTW5SX7crfZUM6v7Nqd7LlQetmdpFeHWDJwKTldrqA0FgxYQkb6VwxZekTUUinleZoLg8V2j8+KUg2ZrgOV65urY2V3+rMLzZ69Rnpp3/XQ015jxvR8P+6j/TjT9eT13Nw4nqnxd5Qu1vTLXhYMW03BPfH3U5GsW/ZrzFnO/7hldg8ArOw1tnAY0ezZnaSX9l0ove1OxgfsnDmeqOtmIepKQhk7PoYf7u5gzrhIbijdvI7vQ8YwKUakDx11VHV6hVrOs37kBDaXdSYVVnanP7XQWu3ba2rbHbgeetlrRGtRHv8F40OviBjVjel5PhvmzkW7PhjtvPkEn6jEaKrmVLgLs938iAxbyxKXlewptW2vsYV9oUn27U417Q5cKL3tThL1F+Nw/3I5IWEBLJvnwY4rIkJJ9VyKdcPFI5gI/yUsWLadqyIMtxQH8vkIUbeYKAKWfoXfvjLbdqc/fddpD4euB1v2GnsYaG1o4E2HUIvovtqtuj2ZnvYaW0h1heRefKsLW+HYhWLT7mTS0dQk//NcT0y6Jpp62YKkjhYaGm3sa213UoVmm75cD86w13ww+nKhOMPu9GcVWsOFDJLS5C8DliIH2HY9fFx7zUfDjgvlo9qdlC8DKSRm3TCPWt+SP4DQVH4PqEJTcQqq0FScgio0FaegCk3FKahCU3EKqtBUnIIqNBWnoApNxSmoQlNxCqrQVJwA/D+WERwZOtEOZAAAAABJRU5ErkJggg==)\n",
        "\n",
        "where Rrs represent the spectral reflectance ata that particular wavelength.\n",
        "\n",
        "These maps are normalized by dividing every pixel that's non 0 by the maximum value found in the map and are then saved as numpy array .npy files.\n",
        "\n"
      ],
      "metadata": {
        "id": "qRGEAAAoZCS7"
      }
    },
    {
      "cell_type": "code",
      "source": [
        "#Specify path to use\n",
        "flag = \"train\"\n",
        "\n",
        "if flag == 'train':\n",
        "    data_path = '/content/drive/MyDrive/Colab_Notebooks/LSTM/train_tiffs'\n",
        "    maps_path = '/content/drive/MyDrive/Colab_Notebooks/LSTM/train_maps'\n",
        "elif flag == 'val':\n",
        "    data_path = '/content/drive/MyDrive/Colab_Notebooks/LSTM/val_tiffs'\n",
        "    maps_path = '/content/drive/MyDrive/Colab_Notebooks/LSTM/val_maps'\n",
        "elif flag == 'test':\n",
        "    data_path = '/content/drive/MyDrive/Colab_Notebooks/LSTM/test_tiffs'\n",
        "    maps_path = '/content/drive/MyDrive/Colab_Notebooks/LSTM/test_maps'\n",
        "else:\n",
        "    raise Exception(\"Check your flag!\")"
      ],
      "metadata": {
        "id": "L4X1eg60gqfG"
      },
      "execution_count": null,
      "outputs": []
    },
    {
      "cell_type": "markdown",
      "source": [
        "To obtain a usable dataset, the structure provided in the figure needs to be respected.\n",
        "\n",
        "One possible solution is to process all the images together and then manually divide to output following the scheme.\n",
        "\n",
        "During the development, the files were already split according to the scheme and then the processing functions were ran 3 times to create the train, val and test datasets one by one.\n",
        "\n",
        "![org.PNG](data:image/png;base64,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)"
      ],
      "metadata": {
        "id": "ckd77Ea_ZF1k"
      }
    },
    {
      "cell_type": "code",
      "source": [
        "debug_path = os.path.join(data_path, '1')\n",
        "\n",
        "#Visualize tiff patches\n",
        "tiff_files=natsorted(glob.glob(os.path.join(debug_path, '*.tiff')))\n",
        "\n",
        "print(len(tiff_files))\n",
        "\n",
        "for file in tiff_files:\n",
        "    img = rasterio.open(file)\n",
        "    show(img.read(25))\n",
        "\n",
        "#Visualize patches' names\n",
        "tiff_files"
      ],
      "metadata": {
        "id": "iabloCi4hJPn"
      },
      "execution_count": null,
      "outputs": []
    },
    {
      "cell_type": "code",
      "source": [
        "def dataset_analysis(input_path):\n",
        "\n",
        "    # Define some spectral bands of interest\n",
        "    Bgreen = 11;      #560 nm\n",
        "    BNir = 41;        #860 nm\n",
        "\n",
        "    b708 = 26;\n",
        "    b665 = 21;\n",
        "\n",
        "    b754 = 30;\n",
        "\n",
        "    max_value = 0\n",
        "    min_value = 2\n",
        "    mean_values = []\n",
        "    std_values = []\n",
        "\n",
        "    number_of_folders = len(next(os.walk(input_path))[1])\n",
        "\n",
        "    for j in range(number_of_folders):\n",
        "\n",
        "      # Get a list of TIFF files in the data path\n",
        "      tiff_files = sorted(glob.glob(os.path.join(input_path, str(j+1), '*.tiff')))\n",
        "\n",
        "\n",
        "      for file in tiff_files:\n",
        "          img = rasterio.open(file)\n",
        "\n",
        "          # NDCI - Normalized Difference Chlorophyll Index\n",
        "          chloro_map = np.divide((img.read(b708)-img.read(b665)), (img.read(b708)+img.read(b665)));\n",
        "          chloro_map = np.nan_to_num(chloro_map, nan=0.)\n",
        "\n",
        "          # Water mask filtering\n",
        "          mask = np.divide((img.read(Bgreen)-img.read(BNir)), (img.read(Bgreen)+img.read(BNir)));\n",
        "\n",
        "          mask[mask < 0] = 0\n",
        "          mask[mask > 0] = 1\n",
        "          mask = np.nan_to_num(mask, nan=0.)\n",
        "\n",
        "\n",
        "          land = np.where(mask == 0)\n",
        "          chloro_map[land] = 0\n",
        "\n",
        "          water = np.where(mask == 1)\n",
        "\n",
        "          if len(chloro_map[water]) > 0:\n",
        "\n",
        "              mean_values.append(np.mean(chloro_map[water]))\n",
        "              std_values.append(np.std(chloro_map[water]))\n",
        "\n",
        "              if np.max(chloro_map[water]) > max_value:\n",
        "                  max_value = np.max(chloro_map[water])\n",
        "\n",
        "              if np.min(chloro_map[water]) < min_value:\n",
        "                  min_value = np.min(chloro_map[water])\n",
        "\n",
        "\n",
        "    mean_value = np.mean(mean_values)\n",
        "    std_value = np.mean(std_values)\n",
        "    max_abs = np.max([max_dataset, np.abs(min_dataset)])\n",
        "\n",
        "    return max_value, min_value, max_abs, mean_value, std_value\n",
        "\n",
        "\n",
        "[max_dataset, min_dataset, max_value_dataset, mean_dataset, std_dataset] = dataset_analysis(data_path)\n",
        "\n",
        "print(max_dataset)\n",
        "print(min_dataset)\n",
        "print(max_value_dataset)\n",
        "print(mean_dataset)\n",
        "print(std_dataset)\n",
        "\n"
      ],
      "metadata": {
        "id": "vegj4dC5g3Qn"
      },
      "execution_count": null,
      "outputs": []
    },
    {
      "cell_type": "code",
      "source": [
        "def obtain_masks(input_path, output_path):\n",
        "\n",
        "    bands = np.linspace(450,940,50)\n",
        "\n",
        "    # Define some spectral bands of interest\n",
        "    Bgreen = 11;      #560 nm\n",
        "    BNir = 41;        #860 nm\n",
        "\n",
        "    b708 = 26;\n",
        "    b665 = 21;\n",
        "\n",
        "    b754 = 30;\n",
        "\n",
        "    number_of_folders = len(next(os.walk(input_path))[1])\n",
        "\n",
        "    for j in range(number_of_folders):\n",
        "\n",
        "      # Get a list of TIFF files in the data path\n",
        "      tiff_files = sorted(glob.glob(os.path.join(input_path, str(j+1), '*.tiff')))\n",
        "\n",
        "\n",
        "      for file in tiff_files:\n",
        "          img = rasterio.open(file)\n",
        "\n",
        "          # NDCI - Normalized Difference Chlorophyll Index\n",
        "          chloro_map = np.divide((img.read(b708)-img.read(b665)), (img.read(b708)+img.read(b665)));\n",
        "          chloro_map = np.nan_to_num(chloro_map, nan=0.)\n",
        "\n",
        "\n",
        "          # Water mask filtering\n",
        "          mask = np.divide((img.read(Bgreen)-img.read(BNir)), (img.read(Bgreen)+img.read(BNir)));\n",
        "\n",
        "          mask[mask < 0] = 0\n",
        "          mask[mask > 0] = 1\n",
        "          mask = np.nan_to_num(mask, nan=0.)\n",
        "\n",
        "          # Sets the pixels outside the water mask equal to 0\n",
        "          land = np.where(mask == 0)\n",
        "          chloro_map[land] = 0\n",
        "\n",
        "          water = np.where(mask == 1)\n",
        "          if len(chloro_map[water]) > 0:\n",
        "\n",
        "              #norm by maximum value in each patch\n",
        "              chloro_map[water] = chloro_map[water]*(1/np.max(chloro_map[water]))\n",
        "\n",
        "          chloro_map = np.nan_to_num(chloro_map, nan=0.)\n",
        "\n",
        "          # Debugging of nan values\n",
        "          if np.isnan(chloro_map).any():\n",
        "\n",
        "              print('There are NaN values')\n",
        "              plt.imshow(chloro_map, vmin=-1, vmax = 1, cmap = 'jet')\n",
        "              plt.colorbar()\n",
        "              plt.show()\n",
        "\n",
        "\n",
        "          #Save as numpy array files\n",
        "          np.save(os.path.join(output_path, str(j+1),  os.path.splitext(os.path.basename(file))[0] + '_map'), chloro_map)\n",
        "\n",
        "obtain_masks(data_path, maps_path)"
      ],
      "metadata": {
        "id": "UGSBoC9Gg9pc"
      },
      "execution_count": null,
      "outputs": []
    },
    {
      "cell_type": "code",
      "source": [
        "demap_path = os.path.join(maps_path, '1')\n",
        "\n",
        "#Visualize masks\n",
        "map_files = natsorted(glob.glob(os.path.join(demap_path, '*.npy')))\n",
        "for map_file in map_files:\n",
        "    # Load the image using numpy\n",
        "    map = np.load(map_file)\n",
        "    #print(np.shape(map))\n",
        "\n",
        "    plt.imshow(map, vmin=-0.1, vmax = 0.5, cmap = 'jet')\n",
        "    plt.colorbar()\n",
        "    plt.show()\n",
        "\n",
        "#Visualize masks' names\n",
        "map_files"
      ],
      "metadata": {
        "id": "y1VWsObChNCv"
      },
      "execution_count": null,
      "outputs": []
    },
    {
      "cell_type": "markdown",
      "source": [
        "The .npy are then reopened an passed through the convert_to_tfrecord() function, which serialize the input data in TFRecord blocks.\n",
        "Each blocks contains an entire sequence of spatio-temporal data training, consisting of 2 images used as timesteps and a third one used as the label that the model has to predict.\n",
        "\n",
        "The delta time between two images of the same sequence ranges from 7 to 30 days and an effort has made to keep it as consistent as possible given the limited possibities offered by the image repository.\n",
        "\n",
        "The model outputs a map detailing the parameter concentration with data ranging as well from -1 to 1: through empirical findings this can be linked to the actual concentration of the parameter studied.\n",
        "The output map is of dimension 1x256x256x1 and can be viewed by setting the value of the first dimension."
      ],
      "metadata": {
        "id": "39vx22UhacoR"
      }
    },
    {
      "cell_type": "code",
      "source": [
        "def convert_to_tfrecord(maps_path, flag):\n",
        "\n",
        "    #Define the desired number of TFRecords files, one per folder\n",
        "    number_of_tfrecords_files = len(next(os.walk(data_path))[1])\n",
        "\n",
        "    number_of_patches = 16\n",
        "    number_of_timesteps = 2\n",
        "\n",
        "\n",
        "    #Choose where to save tfrecord\n",
        "    if flag == \"test\":\n",
        "        output_path = '/content/drive/MyDrive/Colab_Notebooks/LSTM/tfrecords_test/tfrecord_test{}.record'\n",
        "    elif flag == \"train\":\n",
        "        output_path = '/content/drive/MyDrive/Colab_Notebooks/LSTM/tfrecords_train/tfrecord_train{}.record'\n",
        "    elif flag == \"val\":\n",
        "        output_path = '/content/drive/MyDrive/Colab_Notebooks/LSTM/tfrecords_val/tfrecord_val{}.record'\n",
        "\n",
        "    #Sequentially read the dataset and write TFRecords\n",
        "    for i in range(number_of_tfrecords_files):\n",
        "        # Create a TFRecord writer\n",
        "        writer = tf.io.TFRecordWriter(output_path.format(i+1))\n",
        "\n",
        "        #Iterate through the various folders\n",
        "        folder_path = os.path.join(maps_path, str(i+1))\n",
        "\n",
        "        # Get a list of files in the data path\n",
        "        list_patches = []\n",
        "\n",
        "        for k in range(number_of_patches):\n",
        "\n",
        "            list_patches.append(sorted(glob.glob(os.path.join(folder_path, '*0' + str(k) + '_map.npy'))))\n",
        "\n",
        "        for list_patch in list_patches:\n",
        "\n",
        "            j = 0\n",
        "\n",
        "            while j < (len(list_patch) - number_of_timesteps):\n",
        "\n",
        "                #Load (number_of_timesteps + 1) images\n",
        "                img1 = np.load(list_patch[j])\n",
        "                img1_array=np.reshape(img1,[-1])\n",
        "\n",
        "                img2 = np.load(list_patch[j+1])\n",
        "                img2_array=np.reshape(img2,[-1])\n",
        "\n",
        "                img3 = np.load(list_patch[j+2])\n",
        "                img3_array=np.reshape(img3,[-1])\n",
        "\n",
        "                #Get image parameters (same across the images)\n",
        "                filename = list_patch[j].encode('utf8')    #contains the date of the first image\n",
        "                timesteps = number_of_timesteps\n",
        "                height = img1.shape[0]\n",
        "                width = img1.shape[1]\n",
        "                channels = 1\n",
        "\n",
        "                # Create a feature dictionary\n",
        "                feature = {\n",
        "                        'image/filename': tf.train.Feature(bytes_list=tf.train.BytesList(value=[filename])),\n",
        "                        'timesteps': tf.train.Feature(int64_list=tf.train.Int64List(value=[timesteps])),\n",
        "                        'image/height': tf.train.Feature(int64_list=tf.train.Int64List(value=[height])),\n",
        "                        'image/width': tf.train.Feature(int64_list=tf.train.Int64List(value=[width])),\n",
        "                        'image/channels': tf.train.Feature(int64_list=tf.train.Int64List(value=[channels])),\n",
        "                        'image1': tf.train.Feature(float_list=tf.train.FloatList(value=img1_array)),\n",
        "                        'image2': tf.train.Feature(float_list=tf.train.FloatList(value=img2_array)),\n",
        "                        'label': tf.train.Feature(float_list=tf.train.FloatList(value=img3_array)),\n",
        "                }\n",
        "\n",
        "                # Create an example protocol buffer\n",
        "                example = tf.train.Example(features=tf.train.Features(feature=feature))\n",
        "\n",
        "                # Serialize the example to a string\n",
        "                serialized_example = example.SerializeToString()\n",
        "\n",
        "                # Write the serialized example to the TFRecord file\n",
        "                writer.write(serialized_example)\n",
        "\n",
        "                j+=1\n",
        "\n",
        "        writer.close()\n",
        "        print('Successfully created the TFRecord file: {}'.format(output_path.format(i+1)))\n",
        "\n",
        "\n",
        "# Convert TIFF files to TFRecords\n",
        "convert_to_tfrecord(maps_path, flag)"
      ],
      "metadata": {
        "id": "jkNx7U_QhR74"
      },
      "execution_count": null,
      "outputs": []
    },
    {
      "cell_type": "markdown",
      "source": [
        "# 4. ML algorithm and training"
      ],
      "metadata": {
        "id": "0w3iFLyohXJL"
      }
    },
    {
      "cell_type": "markdown",
      "source": [
        "The algorithm used a supervised learning platform to compare the prevision of the model against an associated map obtained through the hyperspectral index.\n",
        "Working with images, an hybrid CNN-LSTM has been implemented through the choice of the ConvLSTM2D keras layer.\n",
        "\n",
        "The loss function used is the mean squared error while the optimizazion algorithm is ADAM.\n",
        "\n",
        "A validation dataset has also been provided to assess the generalization capabilities of the network by studying the validation loss on new images.\n",
        "\n",
        "The training uses two callback functions, one to slowly decrease the learning rate and the other to provide an early stop to the training if the validation loss start to increase."
      ],
      "metadata": {
        "id": "z8LzGjXWbxix"
      }
    },
    {
      "cell_type": "code",
      "source": [
        "def load_tf_records(filepath):\n",
        "    ''' This function will be used to load the TFRecord file from a given path'''\n",
        "\n",
        "    ignore_order = tf.data.Options()\n",
        "    ignore_order.experimental_deterministic = False\n",
        "\n",
        "    filenames = tf.io.gfile.glob(filepath)\n",
        "    dataset = tf.data.TFRecordDataset(filenames,num_parallel_reads=tf.data.AUTOTUNE).with_options(ignore_order)\n",
        "\n",
        "    return dataset\n",
        "\n",
        "def tf_records_file_features_description():\n",
        "    image_feature_description = {\n",
        "\n",
        "        'image/filename':tf.io.FixedLenFeature([],tf.string),\n",
        "        'image/height':tf.io.FixedLenFeature([], tf.int64),\n",
        "        'image/width':tf.io.FixedLenFeature([], tf.int64),\n",
        "        'image/channels':tf.io.FixedLenFeature([], tf.int64),\n",
        "        'timesteps':tf.io.FixedLenFeature([], tf.int64),\n",
        "        'image1':tf.io.FixedLenFeature([256*256*1], tf.float32),\n",
        "        'image2':tf.io.FixedLenFeature([256*256*1], tf.float32),\n",
        "        'label':tf.io.FixedLenFeature([256*256*1], tf.float32),\n",
        "\n",
        "    }\n",
        "    return image_feature_description\n",
        "\n",
        "def decode_dataset(example_proto):\n",
        "    features=tf.io.parse_single_example(example_proto, tf_records_file_features_description())\n",
        "    angle = tf.random.uniform([], minval = -np.pi, maxval = np.pi)\n",
        "\n",
        "    filename=features['image/filename']\n",
        "    height=features['image/height']\n",
        "    width=features['image/width']\n",
        "    channels=features['image/channels']\n",
        "    timesteps=features['timesteps']\n",
        "\n",
        "\n",
        "    patch1=tf.reshape(features['image1'],[1, height, width, channels])\n",
        "    patch1=tfa.image.rotate(patch1, angle)\n",
        "\n",
        "    patch2=tf.reshape(features['image2'],[1, height, width, channels])\n",
        "    patch2=tfa.image.rotate(patch2, angle)\n",
        "\n",
        "    patches = tf.concat([patch1, patch2], 0)\n",
        "\n",
        "    label=tf.reshape(features['label'],[1, height, width, channels])\n",
        "    label=tfa.image.rotate(label, angle)\n",
        "\n",
        "    return patches, label\n"
      ],
      "metadata": {
        "id": "2uT489pohnyA"
      },
      "execution_count": null,
      "outputs": []
    },
    {
      "cell_type": "code",
      "source": [
        "flag = \"train\"\n",
        "\n",
        "#Define a batch size\n",
        "batch_size = 8\n",
        "epochs = 50\n",
        "AUTO = tf.data.AUTOTUNE\n",
        "\n",
        "# Size of the random crops to be used during training.\n",
        "input_img_size = (2, 256, 256, 1)\n",
        "# Weights initializer for the layers.\n",
        "kernel_init = keras.initializers.RandomNormal(mean=0.0, stddev=0.02)\n",
        "# Gamma initializer for instance normalization.\n",
        "gamma_init = keras.initializers.RandomNormal(mean=0.0, stddev=0.02)\n",
        "\n",
        "#Decoding of the various datasets\n",
        "\n",
        "if flag == \"train\":\n",
        "\n",
        "      train_dataset_path='/content/drive/MyDrive/Colab_Notebooks/LSTM/tfrecords_train/*.record'\n",
        "      train_dataset=load_tf_records(train_dataset_path).map(decode_dataset, num_parallel_calls=AUTO).repeat().batch(batch_size).prefetch(AUTO)\n",
        "\n",
        "      val_dataset_path='/content/drive/MyDrive/Colab_Notebooks/LSTM/tfrecords_val/*.record'\n",
        "      val_dataset=load_tf_records(val_dataset_path).map(decode_dataset, num_parallel_calls=AUTO).repeat().batch(batch_size).prefetch(AUTO)\n",
        "\n",
        "      dataset_size=len(list(load_tf_records(train_dataset_path)))\n",
        "      train_steps=dataset_size//batch_size\n",
        "\n",
        "      val_size=len(list(load_tf_records(val_dataset_path)))\n",
        "      val_steps=val_size//batch_size\n",
        "\n",
        "\n",
        "test_dataset_path='/content/drive/MyDrive/Colab_Notebooks/LSTM/tfrecords_test/*.record'\n",
        "test_dataset=load_tf_records(test_dataset_path).map(decode_dataset, num_parallel_calls=AUTO).batch(batch_size).prefetch(AUTO)"
      ],
      "metadata": {
        "id": "_z34VUSrht_E"
      },
      "execution_count": null,
      "outputs": []
    },
    {
      "cell_type": "code",
      "source": [
        "import math\n",
        "from matplotlib import pyplot as plt\n",
        "\n",
        "start_lr = 0.01\n",
        "alpha=0.001 #final lr as a faction of the initial one\n",
        "decay_steps=epochs\n",
        "\n",
        "def lr_scheduler(epoch, start_lr):\n",
        "    cosine_decay = 0.5 * (1 + tf.cos(np.pi * epoch / (decay_steps-1)))\n",
        "    decayed = (1 - alpha) * cosine_decay + alpha\n",
        "    return start_lr * decayed\n",
        "\n",
        "#Define a keras callback\n",
        "lr_callback = tf.keras.callbacks.LearningRateScheduler(lambda epoch: lr_scheduler(epoch,start_lr), verbose=1)\n",
        "early_stopping = keras.callbacks.EarlyStopping(monitor=\"val_loss\", patience=8)\n",
        "\n",
        "#Plot learning rate scheduling\n",
        "rang = np.arange(epochs)\n",
        "y = [lr_scheduler(x,start_lr) for x in rang]\n",
        "plt.plot(rang, y)\n",
        "print('Learning rate per epoch:')"
      ],
      "metadata": {
        "id": "si9WGG6eiYe0"
      },
      "execution_count": null,
      "outputs": []
    },
    {
      "cell_type": "code",
      "source": [
        "def get_convLSTM_puremodel(\n",
        "    filters=64,\n",
        "    gamma_initializer=gamma_init,\n",
        "    name=None,\n",
        "):\n",
        "\n",
        "      # Construct the input layer with no definite frame size.\n",
        "      img_input = layers.Input(shape=input_img_size, name=name + \"_img_input\")\n",
        "\n",
        "      # We will construct 3 `ConvLSTM2D` layers with batch normalization,\n",
        "      # followed by a `Conv3D` layer for the spatiotemporal outputs.\n",
        "      x = layers.ConvLSTM2D(\n",
        "          filters=filters,\n",
        "          kernel_size=(5, 5),\n",
        "          kernel_initializer=kernel_init,\n",
        "          padding=\"same\",\n",
        "          return_sequences=True,\n",
        "          activation=\"relu\",\n",
        "      )(img_input)\n",
        "      x = layers.BatchNormalization()(x)\n",
        "      x = layers.ConvLSTM2D(\n",
        "          filters=filters,\n",
        "          kernel_size=(3, 3),\n",
        "          kernel_initializer=kernel_init,\n",
        "          padding=\"same\",\n",
        "          return_sequences=True,\n",
        "          activation=\"relu\",\n",
        "      )(x)\n",
        "      x = layers.BatchNormalization()(x)\n",
        "      x = layers.ConvLSTM2D(\n",
        "          filters=filters,\n",
        "          kernel_size=(1, 1),\n",
        "          kernel_initializer=kernel_init,\n",
        "          padding=\"same\",\n",
        "          return_sequences=True,\n",
        "          activation=\"relu\",\n",
        "      )(x)\n",
        "      x = layers.Conv3D(\n",
        "          filters=1, kernel_size=(3, 3, 3), strides=(2, 1, 1), activation=\"tanh\", padding=\"same\"\n",
        "      )(x)\n",
        "\n",
        "\n",
        "      # Next, we will build the complete model and compile it.\n",
        "      model = keras.models.Model(img_input, x, name=name)\n",
        "      return model\n"
      ],
      "metadata": {
        "id": "0e6L7HyMiC76"
      },
      "execution_count": null,
      "outputs": []
    },
    {
      "cell_type": "code",
      "source": [
        "#Define the model\n",
        "network = get_convLSTM_puremodel(name=\"rete_convLSTM\")\n",
        "\n",
        "network.compile(loss='mse', optimizer='adam')\n",
        "network.summary()\n"
      ],
      "metadata": {
        "id": "u3xtBMe5iJKE"
      },
      "execution_count": null,
      "outputs": []
    },
    {
      "cell_type": "code",
      "source": [
        "#Visualize the NN\n",
        "tf.keras.utils.plot_model(network,show_shapes=True)\n",
        "visualkeras.layered_view(network, legend =True, scale_xy=1, scale_z=2, max_z=200, max_xy = 50)"
      ],
      "metadata": {
        "id": "vh8UX5ftdgZV"
      },
      "execution_count": null,
      "outputs": []
    },
    {
      "cell_type": "code",
      "source": [
        "history=network.fit(train_dataset,\n",
        "                validation_data = val_dataset,\n",
        "                epochs=epochs,\n",
        "                steps_per_epoch=train_steps,\n",
        "                validation_steps=val_steps,\n",
        "                callbacks=[early_stopping, lr_callback],\n",
        "                )\n",
        "\n",
        "network.save('/content/drive/MyDrive/Colab_Notebooks/LSTM/network_mse_rot_meanstddataset.keras')"
      ],
      "metadata": {
        "id": "a8Z72xsbids_"
      },
      "execution_count": null,
      "outputs": []
    },
    {
      "cell_type": "code",
      "source": [
        "plt.plot(history.history['loss'])\n",
        "plt.plot(history.history['val_loss'])\n",
        "plt.title('model loss')\n",
        "plt.ylabel('loss')\n",
        "plt.xlabel('epoch')\n",
        "plt.ylim([0.00, 2])\n",
        "plt.legend(['train', 'val'], loc='upper left')\n",
        "plt.show()"
      ],
      "metadata": {
        "id": "5jdvr3VOigO_"
      },
      "execution_count": null,
      "outputs": []
    },
    {
      "cell_type": "markdown",
      "source": [
        "# 5. Inference"
      ],
      "metadata": {
        "id": "4qDzd0buir2Q"
      }
    },
    {
      "cell_type": "markdown",
      "source": [
        "![inference.PNG](data:image/png;base64,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)"
      ],
      "metadata": {
        "id": "Vi-bxmJDgPJu"
      }
    },
    {
      "cell_type": "code",
      "source": [
        "network = tf.keras.saving.load_model('/content/drive/MyDrive/Colab_Notebooks/LSTM/network_mse_rot_meanstddataset.keras')"
      ],
      "metadata": {
        "id": "0I4Am-Cuivow"
      },
      "execution_count": null,
      "outputs": []
    },
    {
      "cell_type": "code",
      "source": [
        "predictions = network.predict(test_dataset)"
      ],
      "metadata": {
        "id": "GOxiDd94iy1S"
      },
      "execution_count": null,
      "outputs": []
    },
    {
      "cell_type": "code",
      "source": [
        "print(np.shape(predictions))\n",
        "\n",
        "for prediction in predictions:\n",
        "\n",
        "      index = np.where(prediction[0,:,:,:] != 0)\n",
        "      prediction[0,:,:,:][index] = prediction[0,:,:,:][index]*0.0302 -0.0815\n",
        "\n",
        "      plt.imshow(prediction[0,:,:,:], vmin=-0.1, vmax = 0.5, cmap = 'jet')\n",
        "      plt.colorbar()\n",
        "      plt.show()\n",
        "\n",
        "\n",
        "\n"
      ],
      "metadata": {
        "id": "cBLT2gHwi1J7"
      },
      "execution_count": null,
      "outputs": []
    },
    {
      "cell_type": "code",
      "source": [
        "for entry in test_dataset.unbatch():\n",
        "        [patches, label] = entry\n",
        "\n",
        "        plt.imshow(label[0,:,:,:], vmin=-1, vmax = 1, cmap = 'jet')\n",
        "        plt.colorbar()\n",
        "        plt.show()"
      ],
      "metadata": {
        "id": "i4gfvQr3i8kj"
      },
      "execution_count": null,
      "outputs": []
    },
    {
      "cell_type": "markdown",
      "source": [
        "Provide information on the computational cost (RAM/CPUs currently used)"
      ],
      "metadata": {
        "id": "PmyBrotad1s5"
      }
    },
    {
      "cell_type": "markdown",
      "source": [
        "# 6. Validation"
      ],
      "metadata": {
        "id": "886WIheGjDlx"
      }
    },
    {
      "cell_type": "markdown",
      "source": [
        "The hyperspectral index used has been validated with in-situ data through various indipendent research papers written over the years. [[1]](https://www.researchgate.net/publication/259873574_Normalized_difference_chlorophyll_index_A_novel_model_for_remote_estimation_of_chlorophyll-a_concentration_in_turbid_productive_waters) [[2]](https://www.ncbi.nlm.nih.gov/pmc/articles/PMC5579528/)\n",
        "\n",
        "The training process was validated through the study of the loss and the validation loss function: they both return very low values, ranging from 10e-3 to 10e-4.\n",
        "\n",
        "A known issue is the limited spatial and temporal coverage of the dataset used.\n",
        "Every images has also a lot of pixel that with the application of the hyperspectral index get set to 0 and this generates an imbalance between the emtpy and informative pixels hindering the capability of the network to fully concentrate on the informative pixel.\n",
        "\n",
        "A deeper study on how to minimize the effect of this null values could be conducted to improve the performance of the model."
      ],
      "metadata": {
        "id": "OOnvBlzVjRBh"
      }
    }
  ]
}